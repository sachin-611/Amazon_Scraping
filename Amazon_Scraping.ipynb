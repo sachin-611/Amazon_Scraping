{
  "nbformat": 4,
  "nbformat_minor": 0,
  "metadata": {
    "colab": {
      "name": "Amazon_Scraping.ipynb",
      "provenance": [],
      "authorship_tag": "ABX9TyPNl0qFKBRZzm0hw77s9jNg",
      "include_colab_link": true
    },
    "kernelspec": {
      "name": "python3",
      "display_name": "Python 3"
    },
    "language_info": {
      "name": "python"
    }
  },
  "cells": [
    {
      "cell_type": "markdown",
      "metadata": {
        "id": "view-in-github",
        "colab_type": "text"
      },
      "source": [
        "<a href=\"https://colab.research.google.com/github/sachin-611/Amazon_Scraping/blob/main/Amazon_Scraping.ipynb\" target=\"_parent\"><img src=\"https://colab.research.google.com/assets/colab-badge.svg\" alt=\"Open In Colab\"/></a>"
      ]
    },
    {
      "cell_type": "code",
      "source": [
        "!pip install selenium\n",
        "!apt-get update\n",
        "!apt install chromium-chromedriver\n",
        "!cp /usr/lib/chromium-browser/chromedriver /usr/bin\n",
        "import sys\n",
        "sys.path.insert(0,'/usr/lib/chromium-browser/chromedriver')\n",
        "\n"
      ],
      "metadata": {
        "id": "R9wXce1GCtr8"
      },
      "execution_count": null,
      "outputs": []
    },
    {
      "cell_type": "code",
      "execution_count": 59,
      "metadata": {
        "colab": {
          "base_uri": "https://localhost:8080/"
        },
        "id": "gAzL-4AR-Qut",
        "outputId": "775f6225-60c0-4c26-ba03-49a1bbe1c44f"
      },
      "outputs": [
        {
          "output_type": "stream",
          "name": "stderr",
          "text": [
            "/usr/local/lib/python3.7/dist-packages/ipykernel_launcher.py:9: DeprecationWarning: use options instead of chrome_options\n",
            "  if __name__ == '__main__':\n",
            "/usr/local/lib/python3.7/dist-packages/ipykernel_launcher.py:26: DeprecationWarning: find_element_by_* commands are deprecated. Please use find_element() instead\n",
            "/usr/local/lib/python3.7/dist-packages/ipykernel_launcher.py:27: DeprecationWarning: find_element_by_* commands are deprecated. Please use find_element() instead\n",
            "/usr/local/lib/python3.7/dist-packages/ipykernel_launcher.py:28: DeprecationWarning: find_element_by_* commands are deprecated. Please use find_element() instead\n"
          ]
        },
        {
          "output_type": "stream",
          "name": "stdout",
          "text": [
            "--- 75.2593777179718 seconds --- in 100 entries\n",
            "--- 75.12900638580322 seconds --- in 100 entries\n",
            "--- 78.76122975349426 seconds --- in 100 entries\n",
            "--- 47.659430742263794 seconds --- in 100 entries\n",
            "--- 52.95989394187927 seconds --- in 100 entries\n",
            "--- 69.90218496322632 seconds --- in 100 entries\n",
            "--- 77.20683217048645 seconds --- in 100 entries\n",
            "--- 48.17164349555969 seconds --- in 100 entries\n",
            "--- 58.354581356048584 seconds --- in 100 entries\n",
            "--- 45.54247045516968 seconds --- in 100 entries\n",
            "<module 'json' from '/usr/lib/python3.7/json/__init__.py'>\n"
          ]
        }
      ],
      "source": [
        "from selenium import webdriver\n",
        "import csv\n",
        "import json\n",
        "import time\n",
        "chrome_options = webdriver.ChromeOptions()\n",
        "chrome_options.add_argument('--headless')\n",
        "chrome_options.add_argument('--no-sandbox')\n",
        "chrome_options.add_argument('--disable-dev-shm-usage')\n",
        "driver = webdriver.Chrome('chromedriver',chrome_options=chrome_options)\n",
        "try:\n",
        "  file=open(\"/content/Amazon Scraping - Sheet1.csv\",'r')\n",
        "  file=csv.reader(file)\n",
        "except:\n",
        "  print(\"error opening the CSV file\")\n",
        "result=[]\n",
        "i=1\n",
        "next(file)\n",
        "start_time=time.time()\n",
        "for row in file:\n",
        "  if(i%100==0):\n",
        "    print(\"--- %s seconds --- in 100 entries\" % (time.time() - start_time))\n",
        "    start_time=time.time()\n",
        "  link=f\"https://www.amazon.{row[-1]}/dp/{row[-2]}\"\n",
        "  driver.get(link)\n",
        "  try:\n",
        "    productTitle=driver.find_element_by_id('productTitle').text\n",
        "    image_url=driver.find_element_by_class_name('frontImage').get_attribute(\"src\")\n",
        "    product_detail=driver.find_element_by_id('detailBullets_feature_div').text\n",
        "    result.append({link:[productTitle,image_url,product_detail]})\n",
        "  except:\n",
        "    result.append({link:[\"Error\"]})\n",
        "  i+=1\n",
        "driver.close()\n",
        "with open(\"output.json\", \"w\") as outfile:\n",
        "  json.dump(result, outfile)\n",
        "print(json)"
      ]
    }
  ]
}